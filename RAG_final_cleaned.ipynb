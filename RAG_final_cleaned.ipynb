{
 "cells": [
  {
   "cell_type": "code",
   "execution_count": 3,
   "metadata": {
    "id": "jZ635bWqKPz3"
   },
   "outputs": [],
   "source": [
    "import os\n",
    "import requests"
   ]
  },
  {
   "cell_type": "code",
   "execution_count": 5,
   "metadata": {
    "colab": {
     "base_uri": "https://localhost:8080/"
    },
    "id": "y8a2RnrTKULe",
    "outputId": "8a862bb4-ad89-496f-bdab-86c657c18d78"
   },
   "outputs": [
    {
     "name": "stdin",
     "output_type": "stream",
     "text": [
      "Give the pdf name: human-nutrition-text.pdf\n"
     ]
    },
    {
     "name": "stdout",
     "output_type": "stream",
     "text": [
      "File human-nutrition-text.pdf exists.\n"
     ]
    }
   ],
   "source": [
    "pdf_path=input(\"Give the pdf name:\")\n",
    "\n",
    "if not os.path.exists(pdf_path):\n",
    "    print(f\"[INFO] File doesn't exist,downloading...\")\n",
    "\n",
    "    url=input(\"Give the download url\")\n",
    "\n",
    "    #File name to save the downloaded file\n",
    "    filename=pdf_path\n",
    "\n",
    "    #Send a get request was successful\n",
    "    response=requests.get(url)\n",
    "\n",
    "    #check if the request was successful\n",
    "    if response.status_code==200:\n",
    "        #Open the file and save it\n",
    "        with open(filename,\"wb\") as file:\n",
    "            file.write(response.content)\n",
    "        print(f\"[INFO] the file has been downloaded as {filename}\")\n",
    "    else:\n",
    "        print(f\"[INFO] Failed to download the file. Status code: {response.status_code}\")\n",
    "else:\n",
    "    print(f\"File {pdf_path} exists.\")"
   ]
  },
  {
   "cell_type": "code",
   "execution_count": 6,
   "metadata": {
    "colab": {
     "base_uri": "https://localhost:8080/"
    },
    "id": "SzNyfaH_K1Xu",
    "outputId": "6f4c6c3c-b5ce-4b19-989d-c69fba8bc6e8"
   },
   "outputs": [
    {
     "name": "stdout",
     "output_type": "stream",
     "text": [
      "Requirement already satisfied: pymupdf in c:\\users\\kisho\\appdata\\local\\programs\\python\\python39\\lib\\site-packages (1.26.0)\n",
      "Note: you may need to restart the kernel to use updated packages.\n"
     ]
    },
    {
     "name": "stderr",
     "output_type": "stream",
     "text": [
      "WARNING: Ignoring invalid distribution -umpy (c:\\users\\kisho\\appdata\\local\\programs\\python\\python39\\lib\\site-packages)\n",
      "WARNING: Ignoring invalid distribution -umpy (c:\\users\\kisho\\appdata\\local\\programs\\python\\python39\\lib\\site-packages)\n",
      "WARNING: Ignoring invalid distribution -umpy (c:\\users\\kisho\\appdata\\local\\programs\\python\\python39\\lib\\site-packages)\n",
      "\n",
      "[notice] A new release of pip is available: 24.3.1 -> 25.1.1\n",
      "[notice] To update, run: python.exe -m pip install --upgrade pip\n"
     ]
    }
   ],
   "source": [
    "pip install pymupdf\n"
   ]
  },
  {
   "cell_type": "code",
   "execution_count": 7,
   "metadata": {
    "colab": {
     "base_uri": "https://localhost:8080/",
     "height": 240,
     "referenced_widgets": [
      "6b5dcce6020341bba376d8684af292fe",
      "9f9d6dc07e67470f91b2ff9d7259fdef",
      "3d94a032fbbf40479e8176a07d007cd6",
      "c8d3bb176d7a405b807cbdbc600038d2",
      "f09b2773b62944fe9817a5f35fc7648f",
      "e9253b76e3b644febc764ade292bf0b3",
      "2eaaf97d8b90453694fd07c678d32a41",
      "79806566ede84fdc9f20258c48f05c30",
      "cf581a7835754344ad5bf45af1305bcc",
      "e6d46bf2fd9a437d97e2bb9e4b5e7b35",
      "3b13aa3d519846f5a716e96773c2b1ef"
     ]
    },
    "id": "rrIpiTNXKXpW",
    "outputId": "41aa019c-25de-48d1-fd8c-f65277547463"
   },
   "outputs": [
    {
     "name": "stderr",
     "output_type": "stream",
     "text": [
      "c:\\users\\kisho\\appdata\\local\\programs\\python\\python39\\lib\\site-packages\\tqdm\\auto.py:21: TqdmWarning: IProgress not found. Please update jupyter and ipywidgets. See https://ipywidgets.readthedocs.io/en/stable/user_install.html\n",
      "  from .autonotebook import tqdm as notebook_tqdm\n",
      "1208it [00:03, 349.17it/s]\n"
     ]
    },
    {
     "data": {
      "text/plain": [
       "{'page_number': 100,\n",
       " 'page_char_count': 629,\n",
       " 'page_sentence_count': 4,\n",
       " 'page_word_count': 109,\n",
       " 'page_token_count': 157.25,\n",
       " 'text': 'Digestive  system  without  labels by  Mariana  Ruiz / Public  Domain  Knowing how to maintain the balance of friendly bacteria in your  intestines through proper diet can promote overall health. Recent  scientific studies have shown that probiotic supplements positively  affect intestinal microbial flora, which in turn positively affect  immune system function. As good nutrition is known to influence  immunity, there is great interest in using probiotic foods and other  immune-system-friendly foods as a way to prevent illness. In this  chapter we will explore not only immune system function, but also  Introduction  |  59'}"
      ]
     },
     "execution_count": 7,
     "metadata": {},
     "output_type": "execute_result"
    }
   ],
   "source": [
    "import fitz\n",
    "from tqdm.auto import tqdm\n",
    "\n",
    "def text_formatter(text: str) -> str:\n",
    "    #Performs formatting\n",
    "    cleaned_text=text.replace(\"\\n\", \" \").strip()\n",
    "\n",
    "    return cleaned_text\n",
    "\n",
    "def open_and_read_pdf(pdf_path: str )-> list[dict]:\n",
    "    doc=fitz.open(pdf_path)\n",
    "    pages_and_texts=[]\n",
    "    for page_number,page in tqdm(enumerate(doc)):\n",
    "        text=page.get_text()\n",
    "        text=text_formatter(text=text)\n",
    "        pages_and_texts.append({\"page_number\":page_number,\n",
    "                                \"page_char_count\":len(text),\n",
    "                                \"page_sentence_count\":len(text.split(\". \")),\n",
    "                                \"page_word_count\":len(text.split(\" \")),\n",
    "                                \"page_token_count\": len(text)/4,\n",
    "                                \"text\":text})# 1 token = ~4charcters\n",
    "    return pages_and_texts\n",
    "pages_and_texts=open_and_read_pdf(pdf_path=pdf_path)\n",
    "pages_and_texts[100]\n"
   ]
  },
  {
   "cell_type": "code",
   "execution_count": 8,
   "metadata": {
    "colab": {
     "base_uri": "https://localhost:8080/",
     "height": 327
    },
    "id": "gi1XbRNWKhpO",
    "outputId": "0bf8b4c5-6c2e-40d6-a941-dae167e465fc"
   },
   "outputs": [
    {
     "data": {
      "text/html": [
       "<div>\n",
       "<style scoped>\n",
       "    .dataframe tbody tr th:only-of-type {\n",
       "        vertical-align: middle;\n",
       "    }\n",
       "\n",
       "    .dataframe tbody tr th {\n",
       "        vertical-align: top;\n",
       "    }\n",
       "\n",
       "    .dataframe thead th {\n",
       "        text-align: right;\n",
       "    }\n",
       "</style>\n",
       "<table border=\"1\" class=\"dataframe\">\n",
       "  <thead>\n",
       "    <tr style=\"text-align: right;\">\n",
       "      <th></th>\n",
       "      <th>page_number</th>\n",
       "      <th>page_char_count</th>\n",
       "      <th>page_sentence_count</th>\n",
       "      <th>page_word_count</th>\n",
       "      <th>page_token_count</th>\n",
       "      <th>text</th>\n",
       "    </tr>\n",
       "  </thead>\n",
       "  <tbody>\n",
       "    <tr>\n",
       "      <th>0</th>\n",
       "      <td>0</td>\n",
       "      <td>29</td>\n",
       "      <td>1</td>\n",
       "      <td>4</td>\n",
       "      <td>7.25</td>\n",
       "      <td>Human Nutrition: 2020 Edition</td>\n",
       "    </tr>\n",
       "    <tr>\n",
       "      <th>1</th>\n",
       "      <td>1</td>\n",
       "      <td>0</td>\n",
       "      <td>1</td>\n",
       "      <td>1</td>\n",
       "      <td>0.00</td>\n",
       "      <td></td>\n",
       "    </tr>\n",
       "    <tr>\n",
       "      <th>2</th>\n",
       "      <td>2</td>\n",
       "      <td>320</td>\n",
       "      <td>1</td>\n",
       "      <td>54</td>\n",
       "      <td>80.00</td>\n",
       "      <td>Human Nutrition: 2020  Edition  UNIVERSITY OF ...</td>\n",
       "    </tr>\n",
       "    <tr>\n",
       "      <th>3</th>\n",
       "      <td>3</td>\n",
       "      <td>212</td>\n",
       "      <td>1</td>\n",
       "      <td>32</td>\n",
       "      <td>53.00</td>\n",
       "      <td>Human Nutrition: 2020 Edition by University of...</td>\n",
       "    </tr>\n",
       "    <tr>\n",
       "      <th>4</th>\n",
       "      <td>4</td>\n",
       "      <td>797</td>\n",
       "      <td>2</td>\n",
       "      <td>145</td>\n",
       "      <td>199.25</td>\n",
       "      <td>Contents  Preface  University of Hawai‘i at Mā...</td>\n",
       "    </tr>\n",
       "  </tbody>\n",
       "</table>\n",
       "</div>"
      ],
      "text/plain": [
       "   page_number  page_char_count  page_sentence_count  page_word_count  \\\n",
       "0            0               29                    1                4   \n",
       "1            1                0                    1                1   \n",
       "2            2              320                    1               54   \n",
       "3            3              212                    1               32   \n",
       "4            4              797                    2              145   \n",
       "\n",
       "   page_token_count                                               text  \n",
       "0              7.25                      Human Nutrition: 2020 Edition  \n",
       "1              0.00                                                     \n",
       "2             80.00  Human Nutrition: 2020  Edition  UNIVERSITY OF ...  \n",
       "3             53.00  Human Nutrition: 2020 Edition by University of...  \n",
       "4            199.25  Contents  Preface  University of Hawai‘i at Mā...  "
      ]
     },
     "execution_count": 8,
     "metadata": {},
     "output_type": "execute_result"
    }
   ],
   "source": [
    "import pandas as pd\n",
    "df=pd.DataFrame(pages_and_texts)\n",
    "df.head()"
   ]
  },
  {
   "cell_type": "code",
   "execution_count": 9,
   "metadata": {
    "colab": {
     "base_uri": "https://localhost:8080/",
     "height": 300
    },
    "id": "1mcFtzFfLJM4",
    "outputId": "82396a58-3aed-4087-aa25-5a146e6bcb9d"
   },
   "outputs": [
    {
     "data": {
      "text/html": [
       "<div>\n",
       "<style scoped>\n",
       "    .dataframe tbody tr th:only-of-type {\n",
       "        vertical-align: middle;\n",
       "    }\n",
       "\n",
       "    .dataframe tbody tr th {\n",
       "        vertical-align: top;\n",
       "    }\n",
       "\n",
       "    .dataframe thead th {\n",
       "        text-align: right;\n",
       "    }\n",
       "</style>\n",
       "<table border=\"1\" class=\"dataframe\">\n",
       "  <thead>\n",
       "    <tr style=\"text-align: right;\">\n",
       "      <th></th>\n",
       "      <th>page_number</th>\n",
       "      <th>page_char_count</th>\n",
       "      <th>page_sentence_count</th>\n",
       "      <th>page_word_count</th>\n",
       "      <th>page_token_count</th>\n",
       "    </tr>\n",
       "  </thead>\n",
       "  <tbody>\n",
       "    <tr>\n",
       "      <th>count</th>\n",
       "      <td>1208.00000</td>\n",
       "      <td>1208.000000</td>\n",
       "      <td>1208.000000</td>\n",
       "      <td>1208.000000</td>\n",
       "      <td>1208.000000</td>\n",
       "    </tr>\n",
       "    <tr>\n",
       "      <th>mean</th>\n",
       "      <td>603.50000</td>\n",
       "      <td>1148.004139</td>\n",
       "      <td>9.972682</td>\n",
       "      <td>198.299669</td>\n",
       "      <td>287.001035</td>\n",
       "    </tr>\n",
       "    <tr>\n",
       "      <th>std</th>\n",
       "      <td>348.86387</td>\n",
       "      <td>560.382275</td>\n",
       "      <td>6.187226</td>\n",
       "      <td>95.759336</td>\n",
       "      <td>140.095569</td>\n",
       "    </tr>\n",
       "    <tr>\n",
       "      <th>min</th>\n",
       "      <td>0.00000</td>\n",
       "      <td>0.000000</td>\n",
       "      <td>1.000000</td>\n",
       "      <td>1.000000</td>\n",
       "      <td>0.000000</td>\n",
       "    </tr>\n",
       "    <tr>\n",
       "      <th>25%</th>\n",
       "      <td>301.75000</td>\n",
       "      <td>762.000000</td>\n",
       "      <td>4.000000</td>\n",
       "      <td>134.000000</td>\n",
       "      <td>190.500000</td>\n",
       "    </tr>\n",
       "    <tr>\n",
       "      <th>50%</th>\n",
       "      <td>603.50000</td>\n",
       "      <td>1231.500000</td>\n",
       "      <td>10.000000</td>\n",
       "      <td>214.500000</td>\n",
       "      <td>307.875000</td>\n",
       "    </tr>\n",
       "    <tr>\n",
       "      <th>75%</th>\n",
       "      <td>905.25000</td>\n",
       "      <td>1603.500000</td>\n",
       "      <td>14.000000</td>\n",
       "      <td>271.000000</td>\n",
       "      <td>400.875000</td>\n",
       "    </tr>\n",
       "    <tr>\n",
       "      <th>max</th>\n",
       "      <td>1207.00000</td>\n",
       "      <td>2308.000000</td>\n",
       "      <td>32.000000</td>\n",
       "      <td>429.000000</td>\n",
       "      <td>577.000000</td>\n",
       "    </tr>\n",
       "  </tbody>\n",
       "</table>\n",
       "</div>"
      ],
      "text/plain": [
       "       page_number  page_char_count  page_sentence_count  page_word_count  \\\n",
       "count   1208.00000      1208.000000          1208.000000      1208.000000   \n",
       "mean     603.50000      1148.004139             9.972682       198.299669   \n",
       "std      348.86387       560.382275             6.187226        95.759336   \n",
       "min        0.00000         0.000000             1.000000         1.000000   \n",
       "25%      301.75000       762.000000             4.000000       134.000000   \n",
       "50%      603.50000      1231.500000            10.000000       214.500000   \n",
       "75%      905.25000      1603.500000            14.000000       271.000000   \n",
       "max     1207.00000      2308.000000            32.000000       429.000000   \n",
       "\n",
       "       page_token_count  \n",
       "count       1208.000000  \n",
       "mean         287.001035  \n",
       "std          140.095569  \n",
       "min            0.000000  \n",
       "25%          190.500000  \n",
       "50%          307.875000  \n",
       "75%          400.875000  \n",
       "max          577.000000  "
      ]
     },
     "execution_count": 9,
     "metadata": {},
     "output_type": "execute_result"
    }
   ],
   "source": [
    "df.describe()"
   ]
  },
  {
   "cell_type": "code",
   "execution_count": 10,
   "metadata": {
    "id": "N7QIYdZkLQey"
   },
   "outputs": [],
   "source": [
    "from spacy.lang.en import English"
   ]
  },
  {
   "cell_type": "code",
   "execution_count": 11,
   "metadata": {
    "colab": {
     "base_uri": "https://localhost:8080/"
    },
    "id": "MzzNFSWbLVgo",
    "outputId": "3a0d6c83-0bca-4f18-d384-f94d28a7bd19"
   },
   "outputs": [
    {
     "data": {
      "text/plain": [
       "[This is a sentence., This another sentence., I like elephants.]"
      ]
     },
     "execution_count": 11,
     "metadata": {},
     "output_type": "execute_result"
    }
   ],
   "source": [
    "nlp=English()\n",
    "\n",
    "nlp.add_pipe(\"sentencizer\")\n",
    "\n",
    "doc=nlp(\"This is a sentence. This another sentence. I like elephants.\")\n",
    "assert len(list(doc.sents))==3\n",
    "\n",
    "list(doc.sents)"
   ]
  },
  {
   "cell_type": "code",
   "execution_count": 12,
   "metadata": {
    "colab": {
     "base_uri": "https://localhost:8080/",
     "height": 49,
     "referenced_widgets": [
      "f30f97ec68fa4332a890f40df8e9c99d",
      "e4f9e4d9b07c4c9b99565b40b99d20db",
      "dc5c1f7561314928b3b3a4b1e89654c9",
      "0dd38207855b4e0eb3c5470032c8b1a1",
      "b79a961578a342f69155208ec185d2a9",
      "75cddd545576460daa1ce3e54ea28008",
      "ceeca7442a154d54bd8108afb6cde63b",
      "ac69d54f517d4a568df0902e828426bb",
      "7ca779dd685c43328208fef0addf2526",
      "6b69b461b3ff4f4da1d842401bd526ec",
      "7e1df4b2c53f42419a71d408133abb1d"
     ]
    },
    "id": "dLGhwTYdLaWi",
    "outputId": "ff68363e-facf-463c-a592-1116a6a9035b"
   },
   "outputs": [
    {
     "name": "stderr",
     "output_type": "stream",
     "text": [
      "100%|█████████████████████████████████████████████████████████████████████████████| 1208/1208 [00:06<00:00, 199.67it/s]\n"
     ]
    }
   ],
   "source": [
    "for item in tqdm(pages_and_texts):\n",
    "    item[\"sentences\"]=list(nlp(item[\"text\"]).sents)\n",
    "    #Datatype conversion\n",
    "    item[\"sentences\"]=[str(sentence) for sentence in item[\"sentences\"]]\n",
    "    #Count the sentences\n",
    "    item[\"page_sentence_count_spacy\"]=len(item[\"sentences\"])"
   ]
  },
  {
   "cell_type": "code",
   "execution_count": 13,
   "metadata": {
    "colab": {
     "base_uri": "https://localhost:8080/"
    },
    "id": "Mya4DJTfLfLb",
    "outputId": "31e627b3-9a23-4fbb-ecb9-1fe2f5b9f227"
   },
   "outputs": [
    {
     "data": {
      "text/plain": [
       "{'page_number': 100,\n",
       " 'page_char_count': 629,\n",
       " 'page_sentence_count': 4,\n",
       " 'page_word_count': 109,\n",
       " 'page_token_count': 157.25,\n",
       " 'text': 'Digestive  system  without  labels by  Mariana  Ruiz / Public  Domain  Knowing how to maintain the balance of friendly bacteria in your  intestines through proper diet can promote overall health. Recent  scientific studies have shown that probiotic supplements positively  affect intestinal microbial flora, which in turn positively affect  immune system function. As good nutrition is known to influence  immunity, there is great interest in using probiotic foods and other  immune-system-friendly foods as a way to prevent illness. In this  chapter we will explore not only immune system function, but also  Introduction  |  59',\n",
       " 'sentences': ['Digestive  system  without  labels by  Mariana  Ruiz / Public  Domain  Knowing how to maintain the balance of friendly bacteria in your  intestines through proper diet can promote overall health.',\n",
       "  'Recent  scientific studies have shown that probiotic supplements positively  affect intestinal microbial flora, which in turn positively affect  immune system function.',\n",
       "  'As good nutrition is known to influence  immunity, there is great interest in using probiotic foods and other  immune-system-friendly foods as a way to prevent illness.',\n",
       "  'In this  chapter we will explore not only immune system function, but also  Introduction  |  59'],\n",
       " 'page_sentence_count_spacy': 4}"
      ]
     },
     "execution_count": 13,
     "metadata": {},
     "output_type": "execute_result"
    }
   ],
   "source": [
    "pages_and_texts[100]"
   ]
  },
  {
   "cell_type": "code",
   "execution_count": 14,
   "metadata": {
    "colab": {
     "base_uri": "https://localhost:8080/",
     "height": 320
    },
    "id": "wviTnVGwLjy7",
    "outputId": "ef477665-e432-4f80-a069-e0c743cf3ce6"
   },
   "outputs": [
    {
     "data": {
      "text/html": [
       "<div>\n",
       "<style scoped>\n",
       "    .dataframe tbody tr th:only-of-type {\n",
       "        vertical-align: middle;\n",
       "    }\n",
       "\n",
       "    .dataframe tbody tr th {\n",
       "        vertical-align: top;\n",
       "    }\n",
       "\n",
       "    .dataframe thead th {\n",
       "        text-align: right;\n",
       "    }\n",
       "</style>\n",
       "<table border=\"1\" class=\"dataframe\">\n",
       "  <thead>\n",
       "    <tr style=\"text-align: right;\">\n",
       "      <th></th>\n",
       "      <th>page_number</th>\n",
       "      <th>page_char_count</th>\n",
       "      <th>page_sentence_count</th>\n",
       "      <th>page_word_count</th>\n",
       "      <th>page_token_count</th>\n",
       "      <th>page_sentence_count_spacy</th>\n",
       "    </tr>\n",
       "  </thead>\n",
       "  <tbody>\n",
       "    <tr>\n",
       "      <th>count</th>\n",
       "      <td>1208.00000</td>\n",
       "      <td>1208.000000</td>\n",
       "      <td>1208.000000</td>\n",
       "      <td>1208.000000</td>\n",
       "      <td>1208.000000</td>\n",
       "      <td>1208.000000</td>\n",
       "    </tr>\n",
       "    <tr>\n",
       "      <th>mean</th>\n",
       "      <td>603.50000</td>\n",
       "      <td>1148.004139</td>\n",
       "      <td>9.972682</td>\n",
       "      <td>198.299669</td>\n",
       "      <td>287.001035</td>\n",
       "      <td>10.319536</td>\n",
       "    </tr>\n",
       "    <tr>\n",
       "      <th>std</th>\n",
       "      <td>348.86387</td>\n",
       "      <td>560.382275</td>\n",
       "      <td>6.187226</td>\n",
       "      <td>95.759336</td>\n",
       "      <td>140.095569</td>\n",
       "      <td>6.300843</td>\n",
       "    </tr>\n",
       "    <tr>\n",
       "      <th>min</th>\n",
       "      <td>0.00000</td>\n",
       "      <td>0.000000</td>\n",
       "      <td>1.000000</td>\n",
       "      <td>1.000000</td>\n",
       "      <td>0.000000</td>\n",
       "      <td>0.000000</td>\n",
       "    </tr>\n",
       "    <tr>\n",
       "      <th>25%</th>\n",
       "      <td>301.75000</td>\n",
       "      <td>762.000000</td>\n",
       "      <td>4.000000</td>\n",
       "      <td>134.000000</td>\n",
       "      <td>190.500000</td>\n",
       "      <td>5.000000</td>\n",
       "    </tr>\n",
       "    <tr>\n",
       "      <th>50%</th>\n",
       "      <td>603.50000</td>\n",
       "      <td>1231.500000</td>\n",
       "      <td>10.000000</td>\n",
       "      <td>214.500000</td>\n",
       "      <td>307.875000</td>\n",
       "      <td>10.000000</td>\n",
       "    </tr>\n",
       "    <tr>\n",
       "      <th>75%</th>\n",
       "      <td>905.25000</td>\n",
       "      <td>1603.500000</td>\n",
       "      <td>14.000000</td>\n",
       "      <td>271.000000</td>\n",
       "      <td>400.875000</td>\n",
       "      <td>15.000000</td>\n",
       "    </tr>\n",
       "    <tr>\n",
       "      <th>max</th>\n",
       "      <td>1207.00000</td>\n",
       "      <td>2308.000000</td>\n",
       "      <td>32.000000</td>\n",
       "      <td>429.000000</td>\n",
       "      <td>577.000000</td>\n",
       "      <td>28.000000</td>\n",
       "    </tr>\n",
       "  </tbody>\n",
       "</table>\n",
       "</div>"
      ],
      "text/plain": [
       "       page_number  page_char_count  page_sentence_count  page_word_count  \\\n",
       "count   1208.00000      1208.000000          1208.000000      1208.000000   \n",
       "mean     603.50000      1148.004139             9.972682       198.299669   \n",
       "std      348.86387       560.382275             6.187226        95.759336   \n",
       "min        0.00000         0.000000             1.000000         1.000000   \n",
       "25%      301.75000       762.000000             4.000000       134.000000   \n",
       "50%      603.50000      1231.500000            10.000000       214.500000   \n",
       "75%      905.25000      1603.500000            14.000000       271.000000   \n",
       "max     1207.00000      2308.000000            32.000000       429.000000   \n",
       "\n",
       "       page_token_count  page_sentence_count_spacy  \n",
       "count       1208.000000                1208.000000  \n",
       "mean         287.001035                  10.319536  \n",
       "std          140.095569                   6.300843  \n",
       "min            0.000000                   0.000000  \n",
       "25%          190.500000                   5.000000  \n",
       "50%          307.875000                  10.000000  \n",
       "75%          400.875000                  15.000000  \n",
       "max          577.000000                  28.000000  "
      ]
     },
     "execution_count": 14,
     "metadata": {},
     "output_type": "execute_result"
    }
   ],
   "source": [
    "df=pd.DataFrame(pages_and_texts)\n",
    "df.describe()"
   ]
  },
  {
   "cell_type": "code",
   "execution_count": 15,
   "metadata": {
    "id": "-ho4hM8BLnjE"
   },
   "outputs": [],
   "source": [
    "#Chunck size\n",
    "num_sentence_chunk_size=10\n",
    "\n",
    "#Create a recursive function to split sentences into chunks\n",
    "def split_list(input_list:list,slice_size:int)->list[list[str]]:\n",
    "    return [input_list[i:i+slice_size] for i in range(0,len(input_list),slice_size)]\n"
   ]
  },
  {
   "cell_type": "code",
   "execution_count": 16,
   "metadata": {
    "colab": {
     "base_uri": "https://localhost:8080/",
     "height": 49,
     "referenced_widgets": [
      "90e67e6a40fe4751b3cecee27201efea",
      "e9e1f018608745e1b6e899ad46ef8253",
      "f7ab7107369d4f61a09d482b2c815a07",
      "4d72a720a2b24621a773cc528e98eb6f",
      "55b2cab71f664065b5f7de9c4f72c0df",
      "1df4a3225ac648c2820fab4a541efdfb",
      "5041617296684c1eb065002afbf969db",
      "8a660286484c46f4ae5e30b85f956f8e",
      "a2bd8f0ff2994285a2cb49e36ac0c067",
      "64496e4ddbb14e3194f0c6638d705213",
      "dceb848f77724614aaebe082925f7b64"
     ]
    },
    "id": "JMh_vQqHLsn1",
    "outputId": "324d5fe6-8396-4be8-afab-cf7d9e35d4d0"
   },
   "outputs": [
    {
     "name": "stderr",
     "output_type": "stream",
     "text": [
      "100%|██████████████████████████████████████████████████████████████████████████| 1208/1208 [00:00<00:00, 158236.08it/s]\n"
     ]
    }
   ],
   "source": [
    "#Loop through pages and texts and split sentences into chunks\n",
    "for item in tqdm(pages_and_texts):\n",
    "    item[\"sentence_chunks\"]=split_list(item[\"sentences\"],num_sentence_chunk_size)\n",
    "\n",
    "    item[\"num_chunks\"]=len(item[\"sentence_chunks\"])\n"
   ]
  },
  {
   "cell_type": "code",
   "execution_count": 17,
   "metadata": {
    "colab": {
     "base_uri": "https://localhost:8080/"
    },
    "id": "RgOiFB8VLwDr",
    "outputId": "34cf239b-638b-4764-b979-2eb853ed0091"
   },
   "outputs": [
    {
     "data": {
      "text/plain": [
       "[{'page_number': 873,\n",
       "  'page_char_count': 1418,\n",
       "  'page_sentence_count': 8,\n",
       "  'page_word_count': 228,\n",
       "  'page_token_count': 354.5,\n",
       "  'text': 'Breastfeeding. These steps include having a written policy  on breastfeeding communicated to health-care staff on a  routine basis, informing all new mothers about the benefits  and management of breastfeeding, showing new mothers  how to breastfeed their infants, and how to maintain  lactation, and giving newborns no food or drink other than  breast milk, unless medically indicated. Since the BFHI  began, more than fifteen thousand facilities in 134  countries, from Benin to Bangladesh, have been deemed  “baby friendly.” As a result, more mothers are breastfeeding  their newborns and infant health has improved, in both the  developed world and in developing nations.22 For  information on the Baby-Friendly Initiative in the US, see:  https://www.babyfriendlyusa.org.  Barriers to Breastfeeding  Although breast milk is ideal for almost all infants, there are some  challenges that nursing mothers may face when starting and  continuing to breastfeed their infants. These obstacles include  painful engorgement or fullness in the breasts, often around day  3 to 5 postpartum, sore and tender nipples, lack of comfort or  confidence in public, and lack of accommodation to breastfeed or  express milk in the workplace.  One of the first challenges nursing mothers face is learning how  22.\\xa0UNICEF. The baby-friendly hospital initiative.  http://www.unicef.org/programme/breastfeeding/ baby.htm  832  |  Infancy',\n",
       "  'sentences': ['Breastfeeding.',\n",
       "   'These steps include having a written policy  on breastfeeding communicated to health-care staff on a  routine basis, informing all new mothers about the benefits  and management of breastfeeding, showing new mothers  how to breastfeed their infants, and how to maintain  lactation, and giving newborns no food or drink other than  breast milk, unless medically indicated.',\n",
       "   'Since the BFHI  began, more than fifteen thousand facilities in 134  countries, from Benin to Bangladesh, have been deemed  “baby friendly.”',\n",
       "   'As a result, more mothers are breastfeeding  their newborns and infant health has improved, in both the  developed world and in developing nations.22 For  information on the Baby-Friendly Initiative in the US, see:  https://www.babyfriendlyusa.org.',\n",
       "   ' Barriers to Breastfeeding  Although breast milk is ideal for almost all infants, there are some  challenges that nursing mothers may face when starting and  continuing to breastfeed their infants.',\n",
       "   'These obstacles include  painful engorgement or fullness in the breasts, often around day  3 to 5 postpartum, sore and tender nipples, lack of comfort or  confidence in public, and lack of accommodation to breastfeed or  express milk in the workplace.',\n",
       "   ' One of the first challenges nursing mothers face is learning how  22.',\n",
       "   '\\xa0UNICEF.',\n",
       "   'The baby-friendly hospital initiative.',\n",
       "   ' http://www.unicef.org/programme/breastfeeding/ baby.htm  832  |  Infancy'],\n",
       "  'page_sentence_count_spacy': 10,\n",
       "  'sentence_chunks': [['Breastfeeding.',\n",
       "    'These steps include having a written policy  on breastfeeding communicated to health-care staff on a  routine basis, informing all new mothers about the benefits  and management of breastfeeding, showing new mothers  how to breastfeed their infants, and how to maintain  lactation, and giving newborns no food or drink other than  breast milk, unless medically indicated.',\n",
       "    'Since the BFHI  began, more than fifteen thousand facilities in 134  countries, from Benin to Bangladesh, have been deemed  “baby friendly.”',\n",
       "    'As a result, more mothers are breastfeeding  their newborns and infant health has improved, in both the  developed world and in developing nations.22 For  information on the Baby-Friendly Initiative in the US, see:  https://www.babyfriendlyusa.org.',\n",
       "    ' Barriers to Breastfeeding  Although breast milk is ideal for almost all infants, there are some  challenges that nursing mothers may face when starting and  continuing to breastfeed their infants.',\n",
       "    'These obstacles include  painful engorgement or fullness in the breasts, often around day  3 to 5 postpartum, sore and tender nipples, lack of comfort or  confidence in public, and lack of accommodation to breastfeed or  express milk in the workplace.',\n",
       "    ' One of the first challenges nursing mothers face is learning how  22.',\n",
       "    '\\xa0UNICEF.',\n",
       "    'The baby-friendly hospital initiative.',\n",
       "    ' http://www.unicef.org/programme/breastfeeding/ baby.htm  832  |  Infancy']],\n",
       "  'num_chunks': 1}]"
      ]
     },
     "execution_count": 17,
     "metadata": {},
     "output_type": "execute_result"
    }
   ],
   "source": [
    "import random\n",
    "random.sample(pages_and_texts,k=1)"
   ]
  },
  {
   "cell_type": "code",
   "execution_count": 18,
   "metadata": {
    "colab": {
     "base_uri": "https://localhost:8080/",
     "height": 320
    },
    "id": "9xnfhEMNL0aS",
    "outputId": "f5afa443-9aed-46c4-edc4-b246683c8180"
   },
   "outputs": [
    {
     "data": {
      "text/html": [
       "<div>\n",
       "<style scoped>\n",
       "    .dataframe tbody tr th:only-of-type {\n",
       "        vertical-align: middle;\n",
       "    }\n",
       "\n",
       "    .dataframe tbody tr th {\n",
       "        vertical-align: top;\n",
       "    }\n",
       "\n",
       "    .dataframe thead th {\n",
       "        text-align: right;\n",
       "    }\n",
       "</style>\n",
       "<table border=\"1\" class=\"dataframe\">\n",
       "  <thead>\n",
       "    <tr style=\"text-align: right;\">\n",
       "      <th></th>\n",
       "      <th>page_number</th>\n",
       "      <th>page_char_count</th>\n",
       "      <th>page_sentence_count</th>\n",
       "      <th>page_word_count</th>\n",
       "      <th>page_token_count</th>\n",
       "      <th>page_sentence_count_spacy</th>\n",
       "      <th>num_chunks</th>\n",
       "    </tr>\n",
       "  </thead>\n",
       "  <tbody>\n",
       "    <tr>\n",
       "      <th>count</th>\n",
       "      <td>1208.00</td>\n",
       "      <td>1208.00</td>\n",
       "      <td>1208.00</td>\n",
       "      <td>1208.00</td>\n",
       "      <td>1208.00</td>\n",
       "      <td>1208.00</td>\n",
       "      <td>1208.00</td>\n",
       "    </tr>\n",
       "    <tr>\n",
       "      <th>mean</th>\n",
       "      <td>603.50</td>\n",
       "      <td>1148.00</td>\n",
       "      <td>9.97</td>\n",
       "      <td>198.30</td>\n",
       "      <td>287.00</td>\n",
       "      <td>10.32</td>\n",
       "      <td>1.53</td>\n",
       "    </tr>\n",
       "    <tr>\n",
       "      <th>std</th>\n",
       "      <td>348.86</td>\n",
       "      <td>560.38</td>\n",
       "      <td>6.19</td>\n",
       "      <td>95.76</td>\n",
       "      <td>140.10</td>\n",
       "      <td>6.30</td>\n",
       "      <td>0.64</td>\n",
       "    </tr>\n",
       "    <tr>\n",
       "      <th>min</th>\n",
       "      <td>0.00</td>\n",
       "      <td>0.00</td>\n",
       "      <td>1.00</td>\n",
       "      <td>1.00</td>\n",
       "      <td>0.00</td>\n",
       "      <td>0.00</td>\n",
       "      <td>0.00</td>\n",
       "    </tr>\n",
       "    <tr>\n",
       "      <th>25%</th>\n",
       "      <td>301.75</td>\n",
       "      <td>762.00</td>\n",
       "      <td>4.00</td>\n",
       "      <td>134.00</td>\n",
       "      <td>190.50</td>\n",
       "      <td>5.00</td>\n",
       "      <td>1.00</td>\n",
       "    </tr>\n",
       "    <tr>\n",
       "      <th>50%</th>\n",
       "      <td>603.50</td>\n",
       "      <td>1231.50</td>\n",
       "      <td>10.00</td>\n",
       "      <td>214.50</td>\n",
       "      <td>307.88</td>\n",
       "      <td>10.00</td>\n",
       "      <td>1.00</td>\n",
       "    </tr>\n",
       "    <tr>\n",
       "      <th>75%</th>\n",
       "      <td>905.25</td>\n",
       "      <td>1603.50</td>\n",
       "      <td>14.00</td>\n",
       "      <td>271.00</td>\n",
       "      <td>400.88</td>\n",
       "      <td>15.00</td>\n",
       "      <td>2.00</td>\n",
       "    </tr>\n",
       "    <tr>\n",
       "      <th>max</th>\n",
       "      <td>1207.00</td>\n",
       "      <td>2308.00</td>\n",
       "      <td>32.00</td>\n",
       "      <td>429.00</td>\n",
       "      <td>577.00</td>\n",
       "      <td>28.00</td>\n",
       "      <td>3.00</td>\n",
       "    </tr>\n",
       "  </tbody>\n",
       "</table>\n",
       "</div>"
      ],
      "text/plain": [
       "       page_number  page_char_count  page_sentence_count  page_word_count  \\\n",
       "count      1208.00          1208.00              1208.00          1208.00   \n",
       "mean        603.50          1148.00                 9.97           198.30   \n",
       "std         348.86           560.38                 6.19            95.76   \n",
       "min           0.00             0.00                 1.00             1.00   \n",
       "25%         301.75           762.00                 4.00           134.00   \n",
       "50%         603.50          1231.50                10.00           214.50   \n",
       "75%         905.25          1603.50                14.00           271.00   \n",
       "max        1207.00          2308.00                32.00           429.00   \n",
       "\n",
       "       page_token_count  page_sentence_count_spacy  num_chunks  \n",
       "count           1208.00                    1208.00     1208.00  \n",
       "mean             287.00                      10.32        1.53  \n",
       "std              140.10                       6.30        0.64  \n",
       "min                0.00                       0.00        0.00  \n",
       "25%              190.50                       5.00        1.00  \n",
       "50%              307.88                      10.00        1.00  \n",
       "75%              400.88                      15.00        2.00  \n",
       "max              577.00                      28.00        3.00  "
      ]
     },
     "execution_count": 18,
     "metadata": {},
     "output_type": "execute_result"
    }
   ],
   "source": [
    "df=pd.DataFrame(pages_and_texts)\n",
    "df.describe().round(2)"
   ]
  },
  {
   "cell_type": "code",
   "execution_count": 19,
   "metadata": {
    "colab": {
     "base_uri": "https://localhost:8080/",
     "height": 66,
     "referenced_widgets": [
      "03c2ed9c783a4653a05acfafdfae0bb4",
      "b3ba30300fa94b1ca0fcd318d8583dc5",
      "59c6b97265ec4f08b0538c27da261e41",
      "745196c9b6ac41e69c3c75e430680f65",
      "6e9f7f10f2e7483a80cd984b0bc140ae",
      "c3b9388add9242bd8290e148508be8c5",
      "3b0886c4ebdf4c6582f188dad39f24b0",
      "2d6d2aa8547e4051bc84fef33e94bb30",
      "8a19819f49b241a587b452799e82dfa8",
      "b11e5a4d2e424f20bb696c46ede9cb6b",
      "e2553d6423954fc195782342fcf3a69b"
     ]
    },
    "id": "wwi7JUEWL49h",
    "outputId": "c9671336-61e3-4609-9240-6210a628fb67"
   },
   "outputs": [
    {
     "name": "stderr",
     "output_type": "stream",
     "text": [
      "100%|███████████████████████████████████████████████████████████████████████████| 1208/1208 [00:00<00:00, 12575.13it/s]\n"
     ]
    },
    {
     "data": {
      "text/plain": [
       "1843"
      ]
     },
     "execution_count": 19,
     "metadata": {},
     "output_type": "execute_result"
    }
   ],
   "source": [
    "import re\n",
    "pages_and_chunks=[]\n",
    "for item in tqdm(pages_and_texts):\n",
    "    for sentence_chunk in item[\"sentence_chunks\"]:\n",
    "        chunk_dict={}\n",
    "        chunk_dict[\"page_number\"]=item[\"page_number\"]\n",
    "\n",
    "        joined_sentence=\"\".join(sentence_chunk).replace(\"  \",\" \").strip()\n",
    "        joined_sentence=re.sub(r'\\.([A-Z])',r'. \\1',joined_sentence)\n",
    "\n",
    "\n",
    "        chunk_dict[\"sentence_chunk\"]=joined_sentence\n",
    "\n",
    "        chunk_dict[\"chunk_char_count\"]=len(joined_sentence)\n",
    "        chunk_dict[\"chunk_word_count\"]=len([word for word in joined_sentence.split(\" \")])\n",
    "        chunk_dict[\"chunk_token_count\"]=len(joined_sentence)/4 #1 token ~ 4 chars\n",
    "\n",
    "        pages_and_chunks.append(chunk_dict)\n",
    "\n",
    "len(pages_and_chunks)"
   ]
  },
  {
   "cell_type": "code",
   "execution_count": 20,
   "metadata": {
    "colab": {
     "base_uri": "https://localhost:8080/"
    },
    "id": "ebCXOMZiL94V",
    "outputId": "4083ebf0-b4b2-4bf3-cc0c-d82f1d127295"
   },
   "outputs": [
    {
     "data": {
      "text/plain": [
       "[{'page_number': 977,\n",
       "  'sentence_chunk': 'http://www.heart.org/HEARTORG/ HealthyLiving/PhysicalActivity/FitnessBasics/ American-Heart-Association-Recommendations-for- 936 | The Essential Elements of Physical Fitness',\n",
       "  'chunk_char_count': 173,\n",
       "  'chunk_word_count': 11,\n",
       "  'chunk_token_count': 43.25}]"
      ]
     },
     "execution_count": 20,
     "metadata": {},
     "output_type": "execute_result"
    }
   ],
   "source": [
    "random.sample(pages_and_chunks,k=1)"
   ]
  },
  {
   "cell_type": "code",
   "execution_count": 21,
   "metadata": {
    "colab": {
     "base_uri": "https://localhost:8080/",
     "height": 300
    },
    "id": "NXcNSxZ7MCZk",
    "outputId": "1a1d6d66-179f-4a3e-92c5-e296980f9d87"
   },
   "outputs": [
    {
     "data": {
      "text/html": [
       "<div>\n",
       "<style scoped>\n",
       "    .dataframe tbody tr th:only-of-type {\n",
       "        vertical-align: middle;\n",
       "    }\n",
       "\n",
       "    .dataframe tbody tr th {\n",
       "        vertical-align: top;\n",
       "    }\n",
       "\n",
       "    .dataframe thead th {\n",
       "        text-align: right;\n",
       "    }\n",
       "</style>\n",
       "<table border=\"1\" class=\"dataframe\">\n",
       "  <thead>\n",
       "    <tr style=\"text-align: right;\">\n",
       "      <th></th>\n",
       "      <th>page_number</th>\n",
       "      <th>chunk_char_count</th>\n",
       "      <th>chunk_word_count</th>\n",
       "      <th>chunk_token_count</th>\n",
       "    </tr>\n",
       "  </thead>\n",
       "  <tbody>\n",
       "    <tr>\n",
       "      <th>count</th>\n",
       "      <td>1843.00</td>\n",
       "      <td>1843.00</td>\n",
       "      <td>1843.00</td>\n",
       "      <td>1843.00</td>\n",
       "    </tr>\n",
       "    <tr>\n",
       "      <th>mean</th>\n",
       "      <td>624.38</td>\n",
       "      <td>734.44</td>\n",
       "      <td>112.33</td>\n",
       "      <td>183.61</td>\n",
       "    </tr>\n",
       "    <tr>\n",
       "      <th>std</th>\n",
       "      <td>347.79</td>\n",
       "      <td>447.54</td>\n",
       "      <td>71.22</td>\n",
       "      <td>111.89</td>\n",
       "    </tr>\n",
       "    <tr>\n",
       "      <th>min</th>\n",
       "      <td>0.00</td>\n",
       "      <td>12.00</td>\n",
       "      <td>3.00</td>\n",
       "      <td>3.00</td>\n",
       "    </tr>\n",
       "    <tr>\n",
       "      <th>25%</th>\n",
       "      <td>321.50</td>\n",
       "      <td>315.00</td>\n",
       "      <td>44.00</td>\n",
       "      <td>78.75</td>\n",
       "    </tr>\n",
       "    <tr>\n",
       "      <th>50%</th>\n",
       "      <td>627.00</td>\n",
       "      <td>746.00</td>\n",
       "      <td>114.00</td>\n",
       "      <td>186.50</td>\n",
       "    </tr>\n",
       "    <tr>\n",
       "      <th>75%</th>\n",
       "      <td>931.00</td>\n",
       "      <td>1118.50</td>\n",
       "      <td>173.00</td>\n",
       "      <td>279.62</td>\n",
       "    </tr>\n",
       "    <tr>\n",
       "      <th>max</th>\n",
       "      <td>1207.00</td>\n",
       "      <td>1831.00</td>\n",
       "      <td>297.00</td>\n",
       "      <td>457.75</td>\n",
       "    </tr>\n",
       "  </tbody>\n",
       "</table>\n",
       "</div>"
      ],
      "text/plain": [
       "       page_number  chunk_char_count  chunk_word_count  chunk_token_count\n",
       "count      1843.00           1843.00           1843.00            1843.00\n",
       "mean        624.38            734.44            112.33             183.61\n",
       "std         347.79            447.54             71.22             111.89\n",
       "min           0.00             12.00              3.00               3.00\n",
       "25%         321.50            315.00             44.00              78.75\n",
       "50%         627.00            746.00            114.00             186.50\n",
       "75%         931.00           1118.50            173.00             279.62\n",
       "max        1207.00           1831.00            297.00             457.75"
      ]
     },
     "execution_count": 21,
     "metadata": {},
     "output_type": "execute_result"
    }
   ],
   "source": [
    "df=pd.DataFrame(pages_and_chunks)\n",
    "df.describe().round(2)"
   ]
  },
  {
   "cell_type": "code",
   "execution_count": 22,
   "metadata": {
    "id": "KU3H9xK7MGZY"
   },
   "outputs": [],
   "source": [
    "min_token_len=30\n",
    "pages_and_chunks_over_min_token_len=df[df[\"chunk_token_count\"] > min_token_len].to_dict(orient=\"records\")"
   ]
  },
  {
   "cell_type": "code",
   "execution_count": 23,
   "metadata": {
    "colab": {
     "base_uri": "https://localhost:8080/"
    },
    "id": "_5DLmlTGMKqC",
    "outputId": "be93f94b-b7c9-487d-ee81-0809fe0b0fa7"
   },
   "outputs": [
    {
     "data": {
      "text/plain": [
       "1680"
      ]
     },
     "execution_count": 23,
     "metadata": {},
     "output_type": "execute_result"
    }
   ],
   "source": [
    "random.sample(pages_and_chunks_over_min_token_len,k=1)\n",
    "len(pages_and_chunks_over_min_token_len)"
   ]
  },
  {
   "cell_type": "code",
   "execution_count": 25,
   "metadata": {
    "colab": {
     "base_uri": "https://localhost:8080/"
    },
    "id": "YDhZjrfFMNS2",
    "outputId": "4625a854-b695-4c3e-dfbf-782bc295ce01"
   },
   "outputs": [],
   "source": [
    "from sentence_transformers import SentenceTransformer\n",
    "embedding_model=SentenceTransformer(model_name_or_path=\"all-mpnet-base-v2\",device=\"cpu\")\n",
    "\n",
    "#Loading embedding model"
   ]
  },
  {
   "cell_type": "code",
   "execution_count": 26,
   "metadata": {
    "colab": {
     "base_uri": "https://localhost:8080/",
     "height": 49,
     "referenced_widgets": [
      "b66c0a807989450893d70b795990f900",
      "8afded8600db40c4ac04783c5206c693",
      "c6d8ef79d6df4b88b49244d09f086a83",
      "e205021c2f244139a4b6fd1dd9b30d1d",
      "8f568ace2a844b4f90f1643bebd9ca84",
      "7e43c0b471fc48f99f9a95c120b31987",
      "5fb14a188d704354898687da60f8a721",
      "dafb397c1e7849dcb14df9b5c4649081",
      "cedd810a654546e68d9446aaa9097d24",
      "e9145b653e624a9989b0074391648557",
      "39faff4b880c48758d159ef2b683d9c7"
     ]
    },
    "id": "nKFsAy7SMQSG",
    "outputId": "553d1646-f441-4489-9940-0e44a34e02c7"
   },
   "outputs": [
    {
     "name": "stderr",
     "output_type": "stream",
     "text": [
      "100%|██████████████████████████████████████████████████████████████████████████████| 1680/1680 [22:54<00:00,  1.22it/s]\n"
     ]
    }
   ],
   "source": [
    "for item in tqdm(pages_and_chunks_over_min_token_len):\n",
    "    item[\"embedding\"]=embedding_model.encode(item[\"sentence_chunk\"])\n",
    "\n",
    "#Embedding the pdf"
   ]
  },
  {
   "cell_type": "code",
   "execution_count": 27,
   "metadata": {
    "id": "MkA2lVX6MY6s"
   },
   "outputs": [],
   "source": [
    "pages_and_chunks_embedding_df=pd.DataFrame(pages_and_chunks_over_min_token_len)\n",
    "pages_and_embedding_path=\"pages_and_chunks_embedding_df.csv\"\n",
    "pages_and_chunks_embedding_df.to_csv(pages_and_embedding_path,index=False)\n",
    "\n",
    "#Saving the embedding of pdf in a file as csv"
   ]
  },
  {
   "cell_type": "code",
   "execution_count": 28,
   "metadata": {
    "colab": {
     "base_uri": "https://localhost:8080/",
     "height": 944
    },
    "id": "VaeZwcxhMgGY",
    "outputId": "3789a91c-4bf2-47be-d924-c3f6878c8d52"
   },
   "outputs": [
    {
     "data": {
      "text/html": [
       "<div>\n",
       "<style scoped>\n",
       "    .dataframe tbody tr th:only-of-type {\n",
       "        vertical-align: middle;\n",
       "    }\n",
       "\n",
       "    .dataframe tbody tr th {\n",
       "        vertical-align: top;\n",
       "    }\n",
       "\n",
       "    .dataframe thead th {\n",
       "        text-align: right;\n",
       "    }\n",
       "</style>\n",
       "<table border=\"1\" class=\"dataframe\">\n",
       "  <thead>\n",
       "    <tr style=\"text-align: right;\">\n",
       "      <th></th>\n",
       "      <th>page_number</th>\n",
       "      <th>sentence_chunk</th>\n",
       "      <th>chunk_char_count</th>\n",
       "      <th>chunk_word_count</th>\n",
       "      <th>chunk_token_count</th>\n",
       "      <th>embedding</th>\n",
       "    </tr>\n",
       "  </thead>\n",
       "  <tbody>\n",
       "    <tr>\n",
       "      <th>0</th>\n",
       "      <td>2</td>\n",
       "      <td>Human Nutrition: 2020 Edition UNIVERSITY OF HA...</td>\n",
       "      <td>308</td>\n",
       "      <td>42</td>\n",
       "      <td>77.00</td>\n",
       "      <td>[0.0674242899, 0.090228036, -0.00509548606, -0...</td>\n",
       "    </tr>\n",
       "    <tr>\n",
       "      <th>1</th>\n",
       "      <td>3</td>\n",
       "      <td>Human Nutrition: 2020 Edition by University of...</td>\n",
       "      <td>210</td>\n",
       "      <td>30</td>\n",
       "      <td>52.50</td>\n",
       "      <td>[0.0552156381, 0.0592138283, -0.0166167859, -0...</td>\n",
       "    </tr>\n",
       "    <tr>\n",
       "      <th>2</th>\n",
       "      <td>4</td>\n",
       "      <td>Contents Preface University of Hawai‘i at Māno...</td>\n",
       "      <td>766</td>\n",
       "      <td>114</td>\n",
       "      <td>191.50</td>\n",
       "      <td>[0.0279801637, 0.0339813344, -0.0206427164, 0....</td>\n",
       "    </tr>\n",
       "    <tr>\n",
       "      <th>3</th>\n",
       "      <td>5</td>\n",
       "      <td>Lifestyles and Nutrition University of Hawai‘i...</td>\n",
       "      <td>941</td>\n",
       "      <td>142</td>\n",
       "      <td>235.25</td>\n",
       "      <td>[0.0682566762, 0.0381274372, -0.00846859161, -...</td>\n",
       "    </tr>\n",
       "    <tr>\n",
       "      <th>4</th>\n",
       "      <td>6</td>\n",
       "      <td>The Cardiovascular System University of Hawai‘...</td>\n",
       "      <td>998</td>\n",
       "      <td>152</td>\n",
       "      <td>249.50</td>\n",
       "      <td>[0.033026427, -0.0084977299, 0.00957151968, -0...</td>\n",
       "    </tr>\n",
       "    <tr>\n",
       "      <th>...</th>\n",
       "      <td>...</td>\n",
       "      <td>...</td>\n",
       "      <td>...</td>\n",
       "      <td>...</td>\n",
       "      <td>...</td>\n",
       "      <td>...</td>\n",
       "    </tr>\n",
       "    <tr>\n",
       "      <th>1675</th>\n",
       "      <td>1205</td>\n",
       "      <td>Flashcard Images Note: Most images in the flas...</td>\n",
       "      <td>1305</td>\n",
       "      <td>176</td>\n",
       "      <td>326.25</td>\n",
       "      <td>[0.018562289, -0.0164279304, -0.0127046388, -0...</td>\n",
       "    </tr>\n",
       "    <tr>\n",
       "      <th>1676</th>\n",
       "      <td>1205</td>\n",
       "      <td>Hazard Analysis Critical Control Points reused...</td>\n",
       "      <td>375</td>\n",
       "      <td>51</td>\n",
       "      <td>93.75</td>\n",
       "      <td>[0.0334722437, -0.0570441037, 0.0151489321, -0...</td>\n",
       "    </tr>\n",
       "    <tr>\n",
       "      <th>1677</th>\n",
       "      <td>1206</td>\n",
       "      <td>ShareAlike 11. Organs reused “Pancreas Organ A...</td>\n",
       "      <td>1286</td>\n",
       "      <td>173</td>\n",
       "      <td>321.50</td>\n",
       "      <td>[0.0770513862, 0.00978544727, -0.0121817011, 0...</td>\n",
       "    </tr>\n",
       "    <tr>\n",
       "      <th>1678</th>\n",
       "      <td>1206</td>\n",
       "      <td>Sucrose reused “Figure 03 02 05” by OpenStax B...</td>\n",
       "      <td>410</td>\n",
       "      <td>59</td>\n",
       "      <td>102.50</td>\n",
       "      <td>[0.103045143, -0.0164702218, 0.00826840382, 0....</td>\n",
       "    </tr>\n",
       "    <tr>\n",
       "      <th>1679</th>\n",
       "      <td>1207</td>\n",
       "      <td>23. Vitamin D reused “The Functions of Vitamin...</td>\n",
       "      <td>250</td>\n",
       "      <td>37</td>\n",
       "      <td>62.50</td>\n",
       "      <td>[0.0863772705, -0.0125358533, -0.011274769, 0....</td>\n",
       "    </tr>\n",
       "  </tbody>\n",
       "</table>\n",
       "<p>1680 rows × 6 columns</p>\n",
       "</div>"
      ],
      "text/plain": [
       "      page_number                                     sentence_chunk  \\\n",
       "0               2  Human Nutrition: 2020 Edition UNIVERSITY OF HA...   \n",
       "1               3  Human Nutrition: 2020 Edition by University of...   \n",
       "2               4  Contents Preface University of Hawai‘i at Māno...   \n",
       "3               5  Lifestyles and Nutrition University of Hawai‘i...   \n",
       "4               6  The Cardiovascular System University of Hawai‘...   \n",
       "...           ...                                                ...   \n",
       "1675         1205  Flashcard Images Note: Most images in the flas...   \n",
       "1676         1205  Hazard Analysis Critical Control Points reused...   \n",
       "1677         1206  ShareAlike 11. Organs reused “Pancreas Organ A...   \n",
       "1678         1206  Sucrose reused “Figure 03 02 05” by OpenStax B...   \n",
       "1679         1207  23. Vitamin D reused “The Functions of Vitamin...   \n",
       "\n",
       "      chunk_char_count  chunk_word_count  chunk_token_count  \\\n",
       "0                  308                42              77.00   \n",
       "1                  210                30              52.50   \n",
       "2                  766               114             191.50   \n",
       "3                  941               142             235.25   \n",
       "4                  998               152             249.50   \n",
       "...                ...               ...                ...   \n",
       "1675              1305               176             326.25   \n",
       "1676               375                51              93.75   \n",
       "1677              1286               173             321.50   \n",
       "1678               410                59             102.50   \n",
       "1679               250                37              62.50   \n",
       "\n",
       "                                              embedding  \n",
       "0     [0.0674242899, 0.090228036, -0.00509548606, -0...  \n",
       "1     [0.0552156381, 0.0592138283, -0.0166167859, -0...  \n",
       "2     [0.0279801637, 0.0339813344, -0.0206427164, 0....  \n",
       "3     [0.0682566762, 0.0381274372, -0.00846859161, -...  \n",
       "4     [0.033026427, -0.0084977299, 0.00957151968, -0...  \n",
       "...                                                 ...  \n",
       "1675  [0.018562289, -0.0164279304, -0.0127046388, -0...  \n",
       "1676  [0.0334722437, -0.0570441037, 0.0151489321, -0...  \n",
       "1677  [0.0770513862, 0.00978544727, -0.0121817011, 0...  \n",
       "1678  [0.103045143, -0.0164702218, 0.00826840382, 0....  \n",
       "1679  [0.0863772705, -0.0125358533, -0.011274769, 0....  \n",
       "\n",
       "[1680 rows x 6 columns]"
      ]
     },
     "execution_count": 28,
     "metadata": {},
     "output_type": "execute_result"
    }
   ],
   "source": [
    "import torch\n",
    "import numpy as np\n",
    "import pandas as pd\n",
    "\n",
    "device=\"cuda\" if torch.cuda.is_available() else \"cpu\"\n",
    "\n",
    "text_chunks_embedding=pd.read_csv(pages_and_embedding_path)\n",
    "\n",
    "text_chunks_embedding[\"embedding\"]=text_chunks_embedding[\"embedding\"].apply(lambda x: np.fromstring(x.strip(\"[]\"),sep=\" \"))\n",
    "\n",
    "embedding=torch.tensor(np.stack(text_chunks_embedding[\"embedding\"].tolist(),axis=0),dtype=torch.float32).to(device)\n",
    "\n",
    "pages_and_chunks=text_chunks_embedding.to_dict(orient=\"records\")\n",
    "\n",
    "text_chunks_embedding"
   ]
  },
  {
   "cell_type": "code",
   "execution_count": 29,
   "metadata": {
    "colab": {
     "base_uri": "https://localhost:8080/"
    },
    "id": "aeIWuh2jMuQF",
    "outputId": "754e518b-42d1-4ce6-e485-01ef621803ce"
   },
   "outputs": [
    {
     "data": {
      "text/plain": [
       "torch.Size([1680, 768])"
      ]
     },
     "execution_count": 29,
     "metadata": {},
     "output_type": "execute_result"
    }
   ],
   "source": [
    "embedding.shape"
   ]
  },
  {
   "cell_type": "code",
   "execution_count": 30,
   "metadata": {
    "id": "NYDcE1VQMzaO"
   },
   "outputs": [],
   "source": [
    "from sentence_transformers import util"
   ]
  },
  {
   "cell_type": "code",
   "execution_count": 31,
   "metadata": {
    "id": "aMdPfqTJiwdU"
   },
   "outputs": [],
   "source": [
    "def retrieval(embedding=embedding,embedding_model=embedding_model):\n",
    "      query=input(\"What is your query?:\")\n",
    "\n",
    "      query_embedding=embedding_model.encode(query,convert_to_tensor=True).to(device)\n",
    "\n",
    "      dot_scores=util.dot_score(a=embedding,b=query_embedding).reshape(-1,)\n",
    "\n",
    "      top_k_chunks=torch.topk(dot_scores,k=5)\n",
    "\n",
    "      return top_k_chunks,query"
   ]
  },
  {
   "cell_type": "code",
   "execution_count": 32,
   "metadata": {
    "id": "d-ynUZt5M3Gk"
   },
   "outputs": [],
   "source": [
    "def print_retrieved_text(top_k_chunks,text_chunks_embedding=text_chunks_embedding):\n",
    "    for idx in top_k_chunks.indices.tolist():\n",
    "        print(\"page number:\",text_chunks_embedding[\"page_number\"][idx])\n",
    "        print(idx,text_chunks_embedding[\"sentence_chunk\"][idx])\n",
    "\n",
    "        print(\"\\n\")"
   ]
  },
  {
   "cell_type": "code",
   "execution_count": 37,
   "metadata": {
    "colab": {
     "base_uri": "https://localhost:8080/"
    },
    "id": "Ez4odNbvM6YK",
    "outputId": "4b53461c-475e-4970-f5cc-b99b2208b671"
   },
   "outputs": [
    {
     "name": "stdin",
     "output_type": "stream",
     "text": [
      "What is your query?: give 13 points about macronutrients\n"
     ]
    },
    {
     "name": "stdout",
     "output_type": "stream",
     "text": [
      "page number: 46\n",
      "42 Macronutrients Nutrients that are needed in large amounts are called macronutrients. There are three classes of macronutrients: carbohydrates, lipids, and proteins. These can be metabolically processed into cellular energy. The energy from macronutrients comes from their chemical bonds. This chemical energy is converted into cellular energy that is then utilized to perform work, allowing our bodies to conduct their basic functions. A unit of measurement of food energy is the calorie. On nutrition food labels the amount given for “calories” is actually equivalent to each calorie multiplied by one thousand. A kilocalorie (one thousand calories, denoted with a small “c”) is synonymous with the “Calorie” (with a capital “C”) on nutrition food labels. Water is also a macronutrient in the sense that you require a large amount of it, but unlike the other macronutrients, it does not yield calories. Carbohydrates Carbohydrates are molecules composed of carbon, hydrogen, and oxygen.\n",
      "\n",
      "\n",
      "page number: 49\n",
      "47 Water There is one other nutrient that we must have in large quantities: water. Water does not contain carbon, but is composed of two hydrogens and one oxygen per molecule of water. More than 60 percent of your total body weight is water. Without it, nothing could be transported in or out of the body, chemical reactions would not occur, organs would not be cushioned, and body temperature would fluctuate widely. On average, an adult consumes just over two liters of water per day from food and drink combined. Since water is so critical for life’s basic processes, the amount of water input and output is supremely important, a topic we will explore in detail in Chapter 4. Micronutrients Micronutrients are nutrients required by the body in lesser amounts, but are still essential for carrying out bodily functions. Micronutrients include all the essential minerals and vitamins. There are sixteen essential minerals and thirteen vitamins (See Table 1.1 “Minerals and Their Major Functions” and Table 1.2 “Vitamins and Their Major Functions” for a complete list and their major functions). In contrast to carbohydrates, lipids, and proteins, micronutrients are not sources of energy (calories), but they assist in the process as cofactors or components of enzymes (i.e., coenzymes).\n",
      "\n",
      "\n",
      "page number: 45\n",
      "41 Learning Objectives By the end of this chapter, you will be able to: • Describe basic concepts in nutrition • Describe factors that affect your nutritional needs • Describe the importance of research and scientific methods to understanding nutrition What are Nutrients? The foods we eat contain nutrients. Nutrients are substances required by the body to perform its basic functions. Nutrients must be obtained from our diet, since the human body does not synthesize or produce them. Nutrients have one or more of three basic functions: they provide energy, contribute to body structure, and/or regulate chemical processes in the body. These basic functions allow us to detect and respond to environmental surroundings, move, excrete wastes, respire (breathe), grow, and reproduce. There are six classes of nutrients required for the body to function and maintain overall health. These are carbohydrates, lipids, proteins, water, vitamins, and minerals. Foods also contain non-nutrients that may be harmful (such as natural toxins common in plant foods and additives like some dyes and preservatives) or beneficial (such as antioxidants). 4 | Introduction\n",
      "\n",
      "\n",
      "page number: 48\n",
      "46 Figure 1.1 The Macronutrie nts: Carbohydrat es, Lipids, Protein, and Water Proteins Proteins are macromolecules composed of chains of subunits called amino acids. Amino acids are simple subunits composed of carbon, oxygen, hydrogen, and nitrogen. Food sources of proteins include meats, dairy products, seafood, and a variety of different plant- based foods, most notably soy. The word protein comes from a Greek word meaning “of primary importance,” which is an apt description of these macronutrients; they are also known colloquially as the “workhorses” of life. Proteins provide four kilocalories of energy per gram; however providing energy is not protein’s most important function. Proteins provide structure to bones, muscles and skin, and play a role in conducting most of the chemical reactions that take place in the body. Scientists estimate that greater than one-hundred thousand different proteins exist within the human body. The genetic codes in DNA are basically protein recipes that determine the order in which 20 different amino acids are bound together to make thousands of specific proteins. Figure 1.1 The Macronutrients: Carbohydrates, Lipids, Protein, and Water Introduction | 7\n",
      "\n",
      "\n",
      "page number: 56\n",
      "56 listed on the label, but foods contain many more macronutrients, micronutrients, and other chemicals, like antioxidants, that benefit health. While vitamins, multivitamins, and supplements are a $20 billion industry in the United States, and more than 50 percent of Americans purchase and use them daily, there is no consistent evidence that they are better than food in promoting health and preventing disease. Everyday Connection Make a list of some of your favorite foods and visit the “What’s In the Foods You Eat?”search tool provided by the USDA. What are some of the nutrients found in your favorite foods? Food Quality | 15\n",
      "\n",
      "\n"
     ]
    }
   ],
   "source": [
    "top_k_chunks,query=retrieval(embedding,embedding_model)\n",
    "print_retrieved_text(top_k_chunks=top_k_chunks)"
   ]
  },
  {
   "cell_type": "code",
   "execution_count": 38,
   "metadata": {
    "id": "HFmD995ik-DY"
   },
   "outputs": [],
   "source": [
    "def concatenating_text(top_k_chunks,text_chunks_embedding=text_chunks_embedding):\n",
    "    retrieved_text=[]\n",
    "    for idx in top_k_chunks.indices.tolist():\n",
    "        retrieved_text.append(text_chunks_embedding[\"sentence_chunk\"][idx])\n",
    "    context=\"\\n\".join(retrieved_text)\n",
    "    return context"
   ]
  },
  {
   "cell_type": "code",
   "execution_count": 39,
   "metadata": {
    "id": "cGHZArgJmBRa"
   },
   "outputs": [],
   "source": [
    "def prompt(query,top_k_chunks,text_chunks_embedding=text_chunks_embedding):\n",
    "  context=concatenating_text(top_k_chunks,text_chunks_embedding)\n",
    "  input_text=f\"Context: {context}\\n\\nQuestion: {query}\\nAnswer:\"\n",
    "  return input_text"
   ]
  },
  {
   "cell_type": "code",
   "execution_count": 41,
   "metadata": {
    "colab": {
     "base_uri": "https://localhost:8080/",
     "height": 686
    },
    "id": "Rx5NfU-6ndnR",
    "outputId": "a143ae70-662f-444d-f25e-bc3943320acc"
   },
   "outputs": [
    {
     "data": {
      "text/plain": [
       "'1. Macronutrients are substances required by the body in large amounts to perform its basic functions.\\n2. The three classes of macronutrients are carbohydrates, lipids (fats), and proteins.\\n3. Carbohydrates are molecules composed of carbon, hydrogen, and oxygen. They provide energy for the body and make up a significant portion of many foods.\\n4. Lipids (fats) are another source of energy for the body, providing approximately 9 kilocalories per gram. They also serve as insulation, protect organs, and help absorb fat-soluble vitamins.\\n5. Proteins are macromolecules composed of chains of subunits called amino acids. They provide structure to bones, muscles, and skin, and play a role in conducting most chemical reactions in the body.\\n6. Each gram of protein provides approximately 4 kilocalories of energy.\\n7. Water is also a macronutrient that must be obtained from our diet since the human body does not produce it. It makes up more than 60% of total body weight and is essential for transporting nutrients, conducting chemical reactions, and maintaining bodily functions.\\n8. Unlike other macronutrients, water does not yield calories.\\n9. Micronutrients are required by the body in lesser amounts but are still essential for carrying out bodily functions. They include all the essential minerals and vitamins.\\n10. Minerals and vitamins do not provide energy but assist in chemical processes as cofactors or components of enzymes (i.e., coenzymes).\\n11. The human body does not synthesize or produce nutrients, so they must be obtained from our diet.\\n12. Foods also contain non-nutrients that may be harmful or beneficial. Examples include natural toxins found in plant foods and additives like dyes and preservatives.\\n13. Antioxidants are chemicals in foods that have health benefits, such as reducing inflammation and protecting cells from damage.'"
      ]
     },
     "execution_count": 41,
     "metadata": {},
     "output_type": "execute_result"
    }
   ],
   "source": [
    "import requests\n",
    "\n",
    "def generate_response(query, top_k_chunks):\n",
    "    context = concatenating_text(top_k_chunks, text_chunks_embedding=text_chunks_embedding)\n",
    "    input_text = f\"Context: {context}\\n\\nQuestion: {query}\\nAnswer:\"\n",
    "\n",
    "    response = requests.post(\"http://localhost:11434/api/generate\", json={\n",
    "        \"model\": \"mistral\",\n",
    "        \"prompt\": input_text,\n",
    "        \"stream\": False\n",
    "    })\n",
    "\n",
    "    if response.status_code == 200:\n",
    "        return response.json().get(\"response\", \"\").strip()\n",
    "    else:\n",
    "        return f\"Error from local model: {response.status_code} - {response.text}\"\n",
    "generate_response(query,top_k_chunks)"
   ]
  },
  {
   "cell_type": "code",
   "execution_count": null,
   "metadata": {
    "colab": {
     "base_uri": "https://localhost:8080/",
     "height": 141
    },
    "id": "otKdud5jtMk7",
    "outputId": "4d526fbd-ca7c-4ffe-ef06-a15d1eb496eb"
   },
   "outputs": [],
   "source": [
    "\n"
   ]
  },
  {
   "cell_type": "code",
   "execution_count": null,
   "metadata": {
    "id": "C055JiCj-3sR"
   },
   "outputs": [],
   "source": []
  }
 ],
 "metadata": {
  "accelerator": "GPU",
  "colab": {
   "gpuType": "T4",
   "provenance": []
  },
  "kernelspec": {
   "display_name": "Python 3 (ipykernel)",
   "language": "python",
   "name": "python3"
  },
  "language_info": {
   "codemirror_mode": {
    "name": "ipython",
    "version": 3
   },
   "file_extension": ".py",
   "mimetype": "text/x-python",
   "name": "python",
   "nbconvert_exporter": "python",
   "pygments_lexer": "ipython3",
   "version": "3.9.6"
  }
 },
 "nbformat": 4,
 "nbformat_minor": 4
}
